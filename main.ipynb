{
 "cells": [
  {
   "cell_type": "markdown",
   "metadata": {
    "papermill": {
     "duration": 0.022043,
     "end_time": "2021-04-02T22:30:41.242110",
     "exception": false,
     "start_time": "2021-04-02T22:30:41.220067",
     "status": "completed"
    },
    "tags": []
   },
   "source": [
    "<h1><center>Heart Failure Prediction with Various Machine Learning Models</center></h1>\n",
    "\n",
    "<p style=\"font-size:15px; font-family:verdana; line-height: 1.7em; text-align: justify\"><span style=\"color:crimson;\">Dilated cardiomyopathy (DCM)</span> is the most common type of heart disease, occurring mostly in adults 20 to 60. It affects the heart's ventricles and atria, the lower and upper chambers of the heart, respectively. Frequently the disease starts in the left ventricle, the heart's main pumping chamber. The heart muscle begins to dilate, meaning it stretches and becomes thinner. Consequently, the inside of the chamber enlarges. The problem often spreads to the right ventricle and then to the atria. As the heart chambers dilate, the heart muscle doesn't contract normally and cannot pump blood very well.</p>\n",
    "\n",
    "<p style=\"font-size:15px; font-family:verdana; line-height: 1.7em\">Source: <a href=\"https://www.heart.org/en/health-topics/cardiomyopathy/what-is-cardiomyopathy-in-adults/dilated-cardiomyopathy-dcm\" target=\"_blank\">Heart.org</a></p>\n"
   ]
  },
  {
   "cell_type": "markdown",
   "metadata": {
    "papermill": {
     "duration": 0.020564,
     "end_time": "2021-04-02T22:30:41.283791",
     "exception": false,
     "start_time": "2021-04-02T22:30:41.263227",
     "status": "completed"
    },
    "tags": []
   },
   "source": [
    "<center><img src=\"https://ac-cdn.azureedge.net/infusionnewssiteimages/agingcare/21e637ea-aa74-4ae2-b278-181d2cded7a3.jpg?fit=scale\"></center>"
   ]
  },
  {
   "cell_type": "code",
   "execution_count": 1,
   "metadata": {
    "_kg_hide-input": true,
    "_kg_hide-output": true,
    "execution": {
     "iopub.execute_input": "2021-04-02T22:30:41.329030Z",
     "iopub.status.busy": "2021-04-02T22:30:41.328242Z",
     "iopub.status.idle": "2021-04-02T22:30:42.370359Z",
     "shell.execute_reply": "2021-04-02T22:30:42.371186Z"
    },
    "papermill": {
     "duration": 1.066641,
     "end_time": "2021-04-02T22:30:42.371398",
     "exception": false,
     "start_time": "2021-04-02T22:30:41.304757",
     "status": "completed"
    },
    "tags": []
   },
   "outputs": [],
   "source": [
    "import pandas as pd\n",
    "pd.set_option('display.float_format', lambda x: '%.2f' % x)\n",
    "import numpy as np\n",
    "import matplotlib.pyplot as plt\n",
    "import seaborn as sns\n",
    "import warnings\n",
    "import scipy\n",
    "\n",
    "#Suppressing all warnings\n",
    "warnings.filterwarnings(\"ignore\")\n",
    "\n",
    "%matplotlib inline\n",
    "\n",
    "df = pd.read_csv('../input/heart-failure-clinical-data/heart_failure_clinical_records_dataset.csv')"
   ]
  },
  {
   "cell_type": "markdown",
   "metadata": {
    "papermill": {
     "duration": 0.020628,
     "end_time": "2021-04-02T22:30:42.413370",
     "exception": false,
     "start_time": "2021-04-02T22:30:42.392742",
     "status": "completed"
    },
    "tags": []
   },
   "source": [
    "<p style=\"font-size:15px; font-family:verdana; line-height: 1.7em\"><b>Aim of this notebook 📚</b></p>\n",
    "\n",
    "<p style=\"font-size:15px; font-family:verdana; line-height: 1.7em; text-align: justify\">In this notebook, I visualize the distribution of the variables in the <a href=\"https://www.kaggle.com/andrewmvd/heart-failure-clinical-data\" target=\"_blank\">Heart Failure Prediction</a> dataset and explore their relationship with the target variable <code>DEATH_EVENT</code>. Based on the result of this analysis, I define seven machine learning models to compare their performance on this dataset to predict the target variable using the most correlated subset of variables from the dataset.</p>\n",
    "<p style=\"font-size:15px; font-family:verdana; line-height: 1.7em\">Thanks to <a href=\"https://www.kaggle.com/andrewmvd\" target=\"_blank\">Larxel</a> for posting this dataset on Kaggle!</p>"
   ]
  },
  {
   "cell_type": "markdown",
   "metadata": {
    "papermill": {
     "duration": 0.020589,
     "end_time": "2021-04-02T22:30:42.454918",
     "exception": false,
     "start_time": "2021-04-02T22:30:42.434329",
     "status": "completed"
    },
    "tags": []
   },
   "source": [
    "<p style=\"font-size:15px; font-family:verdana; line-height: 1.7em\"><h3>Lets see what our data looks like.</h3></p>"
   ]
  },
  {
   "cell_type": "markdown",
   "metadata": {
    "papermill": {
     "duration": 0.020755,
     "end_time": "2021-04-02T22:30:42.498086",
     "exception": false,
     "start_time": "2021-04-02T22:30:42.477331",
     "status": "completed"
    },
    "tags": []
   },
   "source": [
    "<p style=\"font-size:15px; font-family:verdana; line-height: 1.7em\"><b>A sample from the data</b></p>"
   ]
  },
  {
   "cell_type": "code",
   "execution_count": 2,
   "metadata": {
    "_kg_hide-input": true,
    "execution": {
     "iopub.execute_input": "2021-04-02T22:30:42.543564Z",
     "iopub.status.busy": "2021-04-02T22:30:42.542828Z",
     "iopub.status.idle": "2021-04-02T22:30:42.570788Z",
     "shell.execute_reply": "2021-04-02T22:30:42.570228Z"
    },
    "papermill": {
     "duration": 0.051604,
     "end_time": "2021-04-02T22:30:42.570898",
     "exception": false,
     "start_time": "2021-04-02T22:30:42.519294",
     "status": "completed"
    },
    "tags": []
   },
   "outputs": [
    {
     "data": {
      "text/html": [
       "<div>\n",
       "<style scoped>\n",
       "    .dataframe tbody tr th:only-of-type {\n",
       "        vertical-align: middle;\n",
       "    }\n",
       "\n",
       "    .dataframe tbody tr th {\n",
       "        vertical-align: top;\n",
       "    }\n",
       "\n",
       "    .dataframe thead th {\n",
       "        text-align: right;\n",
       "    }\n",
       "</style>\n",
       "<table border=\"1\" class=\"dataframe\">\n",
       "  <thead>\n",
       "    <tr style=\"text-align: right;\">\n",
       "      <th></th>\n",
       "      <th>age</th>\n",
       "      <th>anaemia</th>\n",
       "      <th>creatinine_phosphokinase</th>\n",
       "      <th>diabetes</th>\n",
       "      <th>ejection_fraction</th>\n",
       "      <th>high_blood_pressure</th>\n",
       "      <th>platelets</th>\n",
       "      <th>serum_creatinine</th>\n",
       "      <th>serum_sodium</th>\n",
       "      <th>sex</th>\n",
       "      <th>smoking</th>\n",
       "      <th>time</th>\n",
       "      <th>DEATH_EVENT</th>\n",
       "    </tr>\n",
       "  </thead>\n",
       "  <tbody>\n",
       "    <tr>\n",
       "      <th>63</th>\n",
       "      <td>45.00</td>\n",
       "      <td>0</td>\n",
       "      <td>582</td>\n",
       "      <td>0</td>\n",
       "      <td>35</td>\n",
       "      <td>0</td>\n",
       "      <td>385000.00</td>\n",
       "      <td>1.00</td>\n",
       "      <td>145</td>\n",
       "      <td>1</td>\n",
       "      <td>0</td>\n",
       "      <td>61</td>\n",
       "      <td>1</td>\n",
       "    </tr>\n",
       "    <tr>\n",
       "      <th>105</th>\n",
       "      <td>72.00</td>\n",
       "      <td>1</td>\n",
       "      <td>328</td>\n",
       "      <td>0</td>\n",
       "      <td>30</td>\n",
       "      <td>1</td>\n",
       "      <td>621000.00</td>\n",
       "      <td>1.70</td>\n",
       "      <td>138</td>\n",
       "      <td>0</td>\n",
       "      <td>1</td>\n",
       "      <td>88</td>\n",
       "      <td>1</td>\n",
       "    </tr>\n",
       "    <tr>\n",
       "      <th>133</th>\n",
       "      <td>63.00</td>\n",
       "      <td>0</td>\n",
       "      <td>193</td>\n",
       "      <td>0</td>\n",
       "      <td>60</td>\n",
       "      <td>1</td>\n",
       "      <td>295000.00</td>\n",
       "      <td>1.30</td>\n",
       "      <td>145</td>\n",
       "      <td>1</td>\n",
       "      <td>1</td>\n",
       "      <td>107</td>\n",
       "      <td>0</td>\n",
       "    </tr>\n",
       "    <tr>\n",
       "      <th>95</th>\n",
       "      <td>58.00</td>\n",
       "      <td>1</td>\n",
       "      <td>133</td>\n",
       "      <td>0</td>\n",
       "      <td>60</td>\n",
       "      <td>1</td>\n",
       "      <td>219000.00</td>\n",
       "      <td>1.00</td>\n",
       "      <td>141</td>\n",
       "      <td>1</td>\n",
       "      <td>0</td>\n",
       "      <td>83</td>\n",
       "      <td>0</td>\n",
       "    </tr>\n",
       "    <tr>\n",
       "      <th>213</th>\n",
       "      <td>48.00</td>\n",
       "      <td>1</td>\n",
       "      <td>131</td>\n",
       "      <td>1</td>\n",
       "      <td>30</td>\n",
       "      <td>1</td>\n",
       "      <td>244000.00</td>\n",
       "      <td>1.60</td>\n",
       "      <td>130</td>\n",
       "      <td>0</td>\n",
       "      <td>0</td>\n",
       "      <td>193</td>\n",
       "      <td>1</td>\n",
       "    </tr>\n",
       "    <tr>\n",
       "      <th>194</th>\n",
       "      <td>45.00</td>\n",
       "      <td>0</td>\n",
       "      <td>582</td>\n",
       "      <td>0</td>\n",
       "      <td>20</td>\n",
       "      <td>1</td>\n",
       "      <td>126000.00</td>\n",
       "      <td>1.60</td>\n",
       "      <td>135</td>\n",
       "      <td>1</td>\n",
       "      <td>0</td>\n",
       "      <td>180</td>\n",
       "      <td>1</td>\n",
       "    </tr>\n",
       "    <tr>\n",
       "      <th>203</th>\n",
       "      <td>60.00</td>\n",
       "      <td>0</td>\n",
       "      <td>59</td>\n",
       "      <td>0</td>\n",
       "      <td>25</td>\n",
       "      <td>1</td>\n",
       "      <td>212000.00</td>\n",
       "      <td>3.50</td>\n",
       "      <td>136</td>\n",
       "      <td>1</td>\n",
       "      <td>1</td>\n",
       "      <td>187</td>\n",
       "      <td>0</td>\n",
       "    </tr>\n",
       "    <tr>\n",
       "      <th>202</th>\n",
       "      <td>70.00</td>\n",
       "      <td>0</td>\n",
       "      <td>97</td>\n",
       "      <td>0</td>\n",
       "      <td>60</td>\n",
       "      <td>1</td>\n",
       "      <td>220000.00</td>\n",
       "      <td>0.90</td>\n",
       "      <td>138</td>\n",
       "      <td>1</td>\n",
       "      <td>0</td>\n",
       "      <td>186</td>\n",
       "      <td>0</td>\n",
       "    </tr>\n",
       "    <tr>\n",
       "      <th>142</th>\n",
       "      <td>50.00</td>\n",
       "      <td>0</td>\n",
       "      <td>482</td>\n",
       "      <td>1</td>\n",
       "      <td>30</td>\n",
       "      <td>0</td>\n",
       "      <td>329000.00</td>\n",
       "      <td>0.90</td>\n",
       "      <td>132</td>\n",
       "      <td>0</td>\n",
       "      <td>0</td>\n",
       "      <td>109</td>\n",
       "      <td>0</td>\n",
       "    </tr>\n",
       "    <tr>\n",
       "      <th>181</th>\n",
       "      <td>59.00</td>\n",
       "      <td>1</td>\n",
       "      <td>176</td>\n",
       "      <td>1</td>\n",
       "      <td>25</td>\n",
       "      <td>0</td>\n",
       "      <td>221000.00</td>\n",
       "      <td>1.00</td>\n",
       "      <td>136</td>\n",
       "      <td>1</td>\n",
       "      <td>1</td>\n",
       "      <td>150</td>\n",
       "      <td>1</td>\n",
       "    </tr>\n",
       "  </tbody>\n",
       "</table>\n",
       "</div>"
      ],
      "text/plain": [
       "      age  anaemia  creatinine_phosphokinase  diabetes  ejection_fraction  \\\n",
       "63  45.00        0                       582         0                 35   \n",
       "105 72.00        1                       328         0                 30   \n",
       "133 63.00        0                       193         0                 60   \n",
       "95  58.00        1                       133         0                 60   \n",
       "213 48.00        1                       131         1                 30   \n",
       "194 45.00        0                       582         0                 20   \n",
       "203 60.00        0                        59         0                 25   \n",
       "202 70.00        0                        97         0                 60   \n",
       "142 50.00        0                       482         1                 30   \n",
       "181 59.00        1                       176         1                 25   \n",
       "\n",
       "     high_blood_pressure  platelets  serum_creatinine  serum_sodium  sex  \\\n",
       "63                     0  385000.00              1.00           145    1   \n",
       "105                    1  621000.00              1.70           138    0   \n",
       "133                    1  295000.00              1.30           145    1   \n",
       "95                     1  219000.00              1.00           141    1   \n",
       "213                    1  244000.00              1.60           130    0   \n",
       "194                    1  126000.00              1.60           135    1   \n",
       "203                    1  212000.00              3.50           136    1   \n",
       "202                    1  220000.00              0.90           138    1   \n",
       "142                    0  329000.00              0.90           132    0   \n",
       "181                    0  221000.00              1.00           136    1   \n",
       "\n",
       "     smoking  time  DEATH_EVENT  \n",
       "63         0    61            1  \n",
       "105        1    88            1  \n",
       "133        1   107            0  \n",
       "95         0    83            0  \n",
       "213        0   193            1  \n",
       "194        0   180            1  \n",
       "203        1   187            0  \n",
       "202        0   186            0  \n",
       "142        0   109            0  \n",
       "181        1   150            1  "
      ]
     },
     "execution_count": 2,
     "metadata": {},
     "output_type": "execute_result"
    }
   ],
   "source": [
    "df.sample(10)"
   ]
  },
  {
   "cell_type": "markdown",
   "metadata": {
    "papermill": {
     "duration": 0.02158,
     "end_time": "2021-04-02T22:30:42.614618",
     "exception": false,
     "start_time": "2021-04-02T22:30:42.593038",
     "status": "completed"
    },
    "tags": []
   },
   "source": [
    "<p style=\"font-size:15px; font-family:verdana; line-height: 1.7em\">Some of the variable like age, sex, diabetes, and smoking are easier to understand but the others are not obvious if you are not familiar with them already. If you want to read about what each variable means, Expand the cell below!👇</p>"
   ]
  },
  {
   "cell_type": "markdown",
   "metadata": {
    "_kg_hide-input": true,
    "papermill": {
     "duration": 0.021418,
     "end_time": "2021-04-02T22:30:42.657841",
     "exception": false,
     "start_time": "2021-04-02T22:30:42.636423",
     "status": "completed"
    },
    "tags": []
   },
   "source": [
    "<p style=\"font-size:15px; font-family:verdana;\">Good to know you're interested in learning about the data!😃</p><br>\n",
    "<p style=\"font-size:15px; font-family:verdana;\">The dataset has observations of 13 variables for 299 patients</p>\n",
    "<div style=\"font-size:15px; font-family:verdana;\"><b>Variables in this dataset</b>\n",
    "<ol>\n",
    "    <li><span style=\"color:crimson;\">Age</span>: Age of the patient in years</li>\n",
    "    <li><span style=\"color:crimson;\">Anaemia</span>: Decrease of red blood cells or hemoglobin (0:Reduced or 1:Normal)</li>\n",
    "    <li><span style=\"color:crimson;\">creatinine_phosphokinase</span>: Level of the CPK enzyme in the blood (mcg/L)</li>\n",
    "    <li><span style=\"color:crimson;\">Diabetes</span>: If the patient has diabetes (0:No or 1:Yes)</li>\n",
    "    <li><span style=\"color:crimson;\">ejection_fraction</span>: Percentage of blood leaving the heart at each contraction (percentage)</li>\n",
    "    <li><span style=\"color:crimson;\">high_blood_pressure</span>: If the patient has hypertension (0:No or 1:Yes)</li>\n",
    "    <li><span style=\"color:crimson;\">platelets</span>: Platelets in the blood (kiloplatelets/mL)</li>\n",
    "    <li><span style=\"color:crimson;\">serum_creatinine</span>: Level of serum creatinine in the blood (mg/dL)</li>\n",
    "    <li><span style=\"color:crimson;\">serum_sodium</span>: Level of serum sodium in the blood (mEq/L)</li>\n",
    "    <li><span style=\"color:crimson;\">sex</span>: Biological sex of the patient (0:Female or 1:Male)</li>\n",
    "    <li><span style=\"color:crimson;\">smoking</span>: If the patient is a smoker (0:No or 1: Yes)</li>\n",
    "    <li><span style=\"color:crimson;\">time</span>: Follow-up period in days</li>\n",
    "    <li><span style=\"color:crimson;\">death_event</span>: If the patient survived till the end of follow-up period (0:No or 1:Yes )</li>\n",
    "</ol>\n",
    "</div>\n",
    "<p style=\"font-size:15px; font-family:verdana;\">Fortunately, the dataset has no missing values! Thanks to the people who created it.</p>\n",
    "<div class=\"alert alert-block alert-info\" style=\"font-size:14px; font-family:verdana; line-height: 1.7em;\">\n",
    "    📌<b>Dataset Credit:</b><br>\n",
    "Davide Chicco, Giuseppe Jurman: Machine learning can predict survival of patients with heart failure from serum creatinine and ejection fraction alone. BMC Medical Informatics and Decision Making 20, 16 (2020) <a href=\"https://bmcmedinformdecismak.biomedcentral.com/articles/10.1186/s12911-020-1023-5\" target=\"_blank\">(Link)</a></div>"
   ]
  },
  {
   "cell_type": "markdown",
   "metadata": {
    "papermill": {
     "duration": 0.021584,
     "end_time": "2021-04-02T22:30:42.701247",
     "exception": false,
     "start_time": "2021-04-02T22:30:42.679663",
     "status": "completed"
    },
    "tags": []
   },
   "source": [
    "<p style=\"font-size:15px; font-family:verdana; line-height: 1.7em\"><b>Data distribution</b></p>"
   ]
  },
  {
   "cell_type": "code",
   "execution_count": 3,
   "metadata": {
    "_kg_hide-input": true,
    "execution": {
     "iopub.execute_input": "2021-04-02T22:30:42.756729Z",
     "iopub.status.busy": "2021-04-02T22:30:42.755974Z",
     "iopub.status.idle": "2021-04-02T22:30:42.808334Z",
     "shell.execute_reply": "2021-04-02T22:30:42.809406Z"
    },
    "papermill": {
     "duration": 0.086739,
     "end_time": "2021-04-02T22:30:42.809691",
     "exception": false,
     "start_time": "2021-04-02T22:30:42.722952",
     "status": "completed"
    },
    "tags": []
   },
   "outputs": [
    {
     "data": {
      "text/html": [
       "<div>\n",
       "<style scoped>\n",
       "    .dataframe tbody tr th:only-of-type {\n",
       "        vertical-align: middle;\n",
       "    }\n",
       "\n",
       "    .dataframe tbody tr th {\n",
       "        vertical-align: top;\n",
       "    }\n",
       "\n",
       "    .dataframe thead th {\n",
       "        text-align: right;\n",
       "    }\n",
       "</style>\n",
       "<table border=\"1\" class=\"dataframe\">\n",
       "  <thead>\n",
       "    <tr style=\"text-align: right;\">\n",
       "      <th></th>\n",
       "      <th>age</th>\n",
       "      <th>anaemia</th>\n",
       "      <th>creatinine_phosphokinase</th>\n",
       "      <th>diabetes</th>\n",
       "      <th>ejection_fraction</th>\n",
       "      <th>high_blood_pressure</th>\n",
       "      <th>platelets</th>\n",
       "      <th>serum_creatinine</th>\n",
       "      <th>serum_sodium</th>\n",
       "      <th>sex</th>\n",
       "      <th>smoking</th>\n",
       "      <th>time</th>\n",
       "      <th>DEATH_EVENT</th>\n",
       "    </tr>\n",
       "  </thead>\n",
       "  <tbody>\n",
       "    <tr>\n",
       "      <th>count</th>\n",
       "      <td>299.00</td>\n",
       "      <td>299.00</td>\n",
       "      <td>299.00</td>\n",
       "      <td>299.00</td>\n",
       "      <td>299.00</td>\n",
       "      <td>299.00</td>\n",
       "      <td>299.00</td>\n",
       "      <td>299.00</td>\n",
       "      <td>299.00</td>\n",
       "      <td>299.00</td>\n",
       "      <td>299.00</td>\n",
       "      <td>299.00</td>\n",
       "      <td>299.00</td>\n",
       "    </tr>\n",
       "    <tr>\n",
       "      <th>mean</th>\n",
       "      <td>60.83</td>\n",
       "      <td>0.43</td>\n",
       "      <td>581.84</td>\n",
       "      <td>0.42</td>\n",
       "      <td>38.08</td>\n",
       "      <td>0.35</td>\n",
       "      <td>263358.03</td>\n",
       "      <td>1.39</td>\n",
       "      <td>136.63</td>\n",
       "      <td>0.65</td>\n",
       "      <td>0.32</td>\n",
       "      <td>130.26</td>\n",
       "      <td>0.32</td>\n",
       "    </tr>\n",
       "    <tr>\n",
       "      <th>std</th>\n",
       "      <td>11.89</td>\n",
       "      <td>0.50</td>\n",
       "      <td>970.29</td>\n",
       "      <td>0.49</td>\n",
       "      <td>11.83</td>\n",
       "      <td>0.48</td>\n",
       "      <td>97804.24</td>\n",
       "      <td>1.03</td>\n",
       "      <td>4.41</td>\n",
       "      <td>0.48</td>\n",
       "      <td>0.47</td>\n",
       "      <td>77.61</td>\n",
       "      <td>0.47</td>\n",
       "    </tr>\n",
       "    <tr>\n",
       "      <th>min</th>\n",
       "      <td>40.00</td>\n",
       "      <td>0.00</td>\n",
       "      <td>23.00</td>\n",
       "      <td>0.00</td>\n",
       "      <td>14.00</td>\n",
       "      <td>0.00</td>\n",
       "      <td>25100.00</td>\n",
       "      <td>0.50</td>\n",
       "      <td>113.00</td>\n",
       "      <td>0.00</td>\n",
       "      <td>0.00</td>\n",
       "      <td>4.00</td>\n",
       "      <td>0.00</td>\n",
       "    </tr>\n",
       "    <tr>\n",
       "      <th>25%</th>\n",
       "      <td>51.00</td>\n",
       "      <td>0.00</td>\n",
       "      <td>116.50</td>\n",
       "      <td>0.00</td>\n",
       "      <td>30.00</td>\n",
       "      <td>0.00</td>\n",
       "      <td>212500.00</td>\n",
       "      <td>0.90</td>\n",
       "      <td>134.00</td>\n",
       "      <td>0.00</td>\n",
       "      <td>0.00</td>\n",
       "      <td>73.00</td>\n",
       "      <td>0.00</td>\n",
       "    </tr>\n",
       "    <tr>\n",
       "      <th>50%</th>\n",
       "      <td>60.00</td>\n",
       "      <td>0.00</td>\n",
       "      <td>250.00</td>\n",
       "      <td>0.00</td>\n",
       "      <td>38.00</td>\n",
       "      <td>0.00</td>\n",
       "      <td>262000.00</td>\n",
       "      <td>1.10</td>\n",
       "      <td>137.00</td>\n",
       "      <td>1.00</td>\n",
       "      <td>0.00</td>\n",
       "      <td>115.00</td>\n",
       "      <td>0.00</td>\n",
       "    </tr>\n",
       "    <tr>\n",
       "      <th>75%</th>\n",
       "      <td>70.00</td>\n",
       "      <td>1.00</td>\n",
       "      <td>582.00</td>\n",
       "      <td>1.00</td>\n",
       "      <td>45.00</td>\n",
       "      <td>1.00</td>\n",
       "      <td>303500.00</td>\n",
       "      <td>1.40</td>\n",
       "      <td>140.00</td>\n",
       "      <td>1.00</td>\n",
       "      <td>1.00</td>\n",
       "      <td>203.00</td>\n",
       "      <td>1.00</td>\n",
       "    </tr>\n",
       "    <tr>\n",
       "      <th>max</th>\n",
       "      <td>95.00</td>\n",
       "      <td>1.00</td>\n",
       "      <td>7861.00</td>\n",
       "      <td>1.00</td>\n",
       "      <td>80.00</td>\n",
       "      <td>1.00</td>\n",
       "      <td>850000.00</td>\n",
       "      <td>9.40</td>\n",
       "      <td>148.00</td>\n",
       "      <td>1.00</td>\n",
       "      <td>1.00</td>\n",
       "      <td>285.00</td>\n",
       "      <td>1.00</td>\n",
       "    </tr>\n",
       "  </tbody>\n",
       "</table>\n",
       "</div>"
      ],
      "text/plain": [
       "         age  anaemia  creatinine_phosphokinase  diabetes  ejection_fraction  \\\n",
       "count 299.00   299.00                    299.00    299.00             299.00   \n",
       "mean   60.83     0.43                    581.84      0.42              38.08   \n",
       "std    11.89     0.50                    970.29      0.49              11.83   \n",
       "min    40.00     0.00                     23.00      0.00              14.00   \n",
       "25%    51.00     0.00                    116.50      0.00              30.00   \n",
       "50%    60.00     0.00                    250.00      0.00              38.00   \n",
       "75%    70.00     1.00                    582.00      1.00              45.00   \n",
       "max    95.00     1.00                   7861.00      1.00              80.00   \n",
       "\n",
       "       high_blood_pressure  platelets  serum_creatinine  serum_sodium    sex  \\\n",
       "count               299.00     299.00            299.00        299.00 299.00   \n",
       "mean                  0.35  263358.03              1.39        136.63   0.65   \n",
       "std                   0.48   97804.24              1.03          4.41   0.48   \n",
       "min                   0.00   25100.00              0.50        113.00   0.00   \n",
       "25%                   0.00  212500.00              0.90        134.00   0.00   \n",
       "50%                   0.00  262000.00              1.10        137.00   1.00   \n",
       "75%                   1.00  303500.00              1.40        140.00   1.00   \n",
       "max                   1.00  850000.00              9.40        148.00   1.00   \n",
       "\n",
       "       smoking   time  DEATH_EVENT  \n",
       "count   299.00 299.00       299.00  \n",
       "mean      0.32 130.26         0.32  \n",
       "std       0.47  77.61         0.47  \n",
       "min       0.00   4.00         0.00  \n",
       "25%       0.00  73.00         0.00  \n",
       "50%       0.00 115.00         0.00  \n",
       "75%       1.00 203.00         1.00  \n",
       "max       1.00 285.00         1.00  "
      ]
     },
     "execution_count": 3,
     "metadata": {},
     "output_type": "execute_result"
    }
   ],
   "source": [
    "df.describe()"
   ]
  },
  {
   "cell_type": "markdown",
   "metadata": {
    "papermill": {
     "duration": 0.030688,
     "end_time": "2021-04-02T22:30:42.874764",
     "exception": false,
     "start_time": "2021-04-02T22:30:42.844076",
     "status": "completed"
    },
    "tags": []
   },
   "source": [
    "### Death Event Distribution"
   ]
  },
  {
   "cell_type": "code",
   "execution_count": 4,
   "metadata": {
    "_kg_hide-input": true,
    "execution": {
     "iopub.execute_input": "2021-04-02T22:30:42.929534Z",
     "iopub.status.busy": "2021-04-02T22:30:42.928723Z",
     "iopub.status.idle": "2021-04-02T22:30:44.933495Z",
     "shell.execute_reply": "2021-04-02T22:30:44.932810Z"
    },
    "papermill": {
     "duration": 2.035755,
     "end_time": "2021-04-02T22:30:44.933627",
     "exception": false,
     "start_time": "2021-04-02T22:30:42.897872",
     "status": "completed"
    },
    "tags": []
   },
   "outputs": [
    {
     "data": {
      "text/html": [
       "        <script type=\"text/javascript\">\n",
       "        window.PlotlyConfig = {MathJaxConfig: 'local'};\n",
       "        if (window.MathJax) {MathJax.Hub.Config({SVG: {font: \"STIX-Web\"}});}\n",
       "        if (typeof require !== 'undefined') {\n",
       "        require.undef(\"plotly\");\n",
       "        requirejs.config({\n",
       "            paths: {\n",
       "                'plotly': ['https://cdn.plot.ly/plotly-latest.min']\n",
       "            }\n",
       "        });\n",
       "        require(['plotly'], function(Plotly) {\n",
       "            window._Plotly = Plotly;\n",
       "        });\n",
       "        }\n",
       "        </script>\n",
       "        "
      ]
     },
     "metadata": {},
     "output_type": "display_data"
    },
    {
     "data": {
      "text/html": [
       "<div>\n",
       "        \n",
       "        \n",
       "            <div id=\"5039db1a-eb47-4a51-ab35-564be703021e\" class=\"plotly-graph-div\" style=\"height:400px; width:600px;\"></div>\n",
       "            <script type=\"text/javascript\">\n",
       "                require([\"plotly\"], function(Plotly) {\n",
       "                    window.PLOTLYENV=window.PLOTLYENV || {};\n",
       "                    \n",
       "                if (document.getElementById(\"5039db1a-eb47-4a51-ab35-564be703021e\")) {\n",
       "                    Plotly.newPlot(\n",
       "                        '5039db1a-eb47-4a51-ab35-564be703021e',\n",
       "                        [{\"domain\": {\"x\": [0.0, 1.0], \"y\": [0.0, 1.0]}, \"hovertemplate\": \"DEATH_EVENT=%{label}<extra></extra>\", \"labels\": [1, 1, 1, 1, 1, 1, 1, 1, 1, 1, 1, 1, 1, 1, 0, 1, 1, 1, 1, 1, 0, 1, 1, 0, 1, 1, 1, 1, 1, 1, 1, 1, 1, 0, 1, 1, 1, 1, 0, 1, 1, 1, 1, 0, 1, 1, 1, 1, 1, 1, 1, 1, 1, 1, 1, 1, 0, 0, 1, 1, 1, 1, 0, 1, 0, 1, 1, 1, 1, 1, 0, 0, 1, 0, 1, 1, 0, 0, 0, 0, 0, 0, 1, 0, 1, 0, 0, 0, 0, 0, 0, 0, 0, 1, 0, 0, 0, 0, 0, 0, 0, 0, 0, 0, 0, 1, 0, 0, 0, 0, 1, 0, 0, 1, 0, 0, 0, 0, 0, 1, 0, 0, 0, 0, 1, 0, 1, 0, 0, 0, 0, 0, 0, 0, 0, 0, 0, 0, 0, 0, 1, 0, 0, 0, 1, 0, 0, 0, 1, 0, 1, 0, 0, 0, 0, 0, 0, 0, 0, 0, 0, 0, 0, 1, 1, 1, 0, 1, 0, 0, 0, 0, 0, 0, 0, 0, 0, 0, 0, 0, 0, 1, 1, 1, 1, 1, 1, 1, 0, 0, 0, 0, 0, 0, 1, 1, 0, 0, 0, 0, 0, 0, 0, 0, 0, 0, 0, 0, 0, 0, 0, 0, 0, 1, 0, 0, 0, 1, 0, 0, 1, 0, 0, 0, 0, 0, 0, 0, 0, 0, 1, 0, 0, 0, 0, 0, 0, 0, 0, 0, 0, 0, 0, 0, 0, 0, 1, 0, 0, 0, 0, 0, 0, 0, 0, 0, 0, 0, 0, 0, 0, 0, 1, 0, 0, 0, 1, 0, 0, 0, 0, 0, 0, 0, 0, 0, 0, 0, 0, 0, 0, 0, 0, 0, 0, 0, 0, 0, 0, 0, 0, 0, 0, 0, 0, 0, 0, 0, 0], \"legendgroup\": \"\", \"name\": \"\", \"showlegend\": true, \"type\": \"pie\"}],\n",
       "                        {\"height\": 400, \"legend\": {\"tracegroupgap\": 0}, \"template\": {\"data\": {\"bar\": [{\"error_x\": {\"color\": \"#2a3f5f\"}, \"error_y\": {\"color\": \"#2a3f5f\"}, \"marker\": {\"line\": {\"color\": \"#E5ECF6\", \"width\": 0.5}}, \"type\": \"bar\"}], \"barpolar\": [{\"marker\": {\"line\": {\"color\": \"#E5ECF6\", \"width\": 0.5}}, \"type\": \"barpolar\"}], \"carpet\": [{\"aaxis\": {\"endlinecolor\": \"#2a3f5f\", \"gridcolor\": \"white\", \"linecolor\": \"white\", \"minorgridcolor\": \"white\", \"startlinecolor\": \"#2a3f5f\"}, \"baxis\": {\"endlinecolor\": \"#2a3f5f\", \"gridcolor\": \"white\", \"linecolor\": \"white\", \"minorgridcolor\": \"white\", \"startlinecolor\": \"#2a3f5f\"}, \"type\": \"carpet\"}], \"choropleth\": [{\"colorbar\": {\"outlinewidth\": 0, \"ticks\": \"\"}, \"type\": \"choropleth\"}], \"contour\": [{\"colorbar\": {\"outlinewidth\": 0, \"ticks\": \"\"}, \"colorscale\": [[0.0, \"#0d0887\"], [0.1111111111111111, \"#46039f\"], [0.2222222222222222, \"#7201a8\"], [0.3333333333333333, \"#9c179e\"], [0.4444444444444444, \"#bd3786\"], [0.5555555555555556, \"#d8576b\"], [0.6666666666666666, \"#ed7953\"], [0.7777777777777778, \"#fb9f3a\"], [0.8888888888888888, \"#fdca26\"], [1.0, \"#f0f921\"]], \"type\": \"contour\"}], \"contourcarpet\": [{\"colorbar\": {\"outlinewidth\": 0, \"ticks\": \"\"}, \"type\": \"contourcarpet\"}], \"heatmap\": [{\"colorbar\": {\"outlinewidth\": 0, \"ticks\": \"\"}, \"colorscale\": [[0.0, \"#0d0887\"], [0.1111111111111111, \"#46039f\"], [0.2222222222222222, \"#7201a8\"], [0.3333333333333333, \"#9c179e\"], [0.4444444444444444, \"#bd3786\"], [0.5555555555555556, \"#d8576b\"], [0.6666666666666666, \"#ed7953\"], [0.7777777777777778, \"#fb9f3a\"], [0.8888888888888888, \"#fdca26\"], [1.0, \"#f0f921\"]], \"type\": \"heatmap\"}], \"heatmapgl\": [{\"colorbar\": {\"outlinewidth\": 0, \"ticks\": \"\"}, \"colorscale\": [[0.0, \"#0d0887\"], [0.1111111111111111, \"#46039f\"], [0.2222222222222222, \"#7201a8\"], [0.3333333333333333, \"#9c179e\"], [0.4444444444444444, \"#bd3786\"], [0.5555555555555556, \"#d8576b\"], [0.6666666666666666, \"#ed7953\"], [0.7777777777777778, \"#fb9f3a\"], [0.8888888888888888, \"#fdca26\"], [1.0, \"#f0f921\"]], \"type\": \"heatmapgl\"}], \"histogram\": [{\"marker\": {\"colorbar\": {\"outlinewidth\": 0, \"ticks\": \"\"}}, \"type\": \"histogram\"}], \"histogram2d\": [{\"colorbar\": {\"outlinewidth\": 0, \"ticks\": \"\"}, \"colorscale\": [[0.0, \"#0d0887\"], [0.1111111111111111, \"#46039f\"], [0.2222222222222222, \"#7201a8\"], [0.3333333333333333, \"#9c179e\"], [0.4444444444444444, \"#bd3786\"], [0.5555555555555556, \"#d8576b\"], [0.6666666666666666, \"#ed7953\"], [0.7777777777777778, \"#fb9f3a\"], [0.8888888888888888, \"#fdca26\"], [1.0, \"#f0f921\"]], \"type\": \"histogram2d\"}], \"histogram2dcontour\": [{\"colorbar\": {\"outlinewidth\": 0, \"ticks\": \"\"}, \"colorscale\": [[0.0, \"#0d0887\"], [0.1111111111111111, \"#46039f\"], [0.2222222222222222, \"#7201a8\"], [0.3333333333333333, \"#9c179e\"], [0.4444444444444444, \"#bd3786\"], [0.5555555555555556, \"#d8576b\"], [0.6666666666666666, \"#ed7953\"], [0.7777777777777778, \"#fb9f3a\"], [0.8888888888888888, \"#fdca26\"], [1.0, \"#f0f921\"]], \"type\": \"histogram2dcontour\"}], \"mesh3d\": [{\"colorbar\": {\"outlinewidth\": 0, \"ticks\": \"\"}, \"type\": \"mesh3d\"}], \"parcoords\": [{\"line\": {\"colorbar\": {\"outlinewidth\": 0, \"ticks\": \"\"}}, \"type\": \"parcoords\"}], \"pie\": [{\"automargin\": true, \"type\": \"pie\"}], \"scatter\": [{\"marker\": {\"colorbar\": {\"outlinewidth\": 0, \"ticks\": \"\"}}, \"type\": \"scatter\"}], \"scatter3d\": [{\"line\": {\"colorbar\": {\"outlinewidth\": 0, \"ticks\": \"\"}}, \"marker\": {\"colorbar\": {\"outlinewidth\": 0, \"ticks\": \"\"}}, \"type\": \"scatter3d\"}], \"scattercarpet\": [{\"marker\": {\"colorbar\": {\"outlinewidth\": 0, \"ticks\": \"\"}}, \"type\": \"scattercarpet\"}], \"scattergeo\": [{\"marker\": {\"colorbar\": {\"outlinewidth\": 0, \"ticks\": \"\"}}, \"type\": \"scattergeo\"}], \"scattergl\": [{\"marker\": {\"colorbar\": {\"outlinewidth\": 0, \"ticks\": \"\"}}, \"type\": \"scattergl\"}], \"scattermapbox\": [{\"marker\": {\"colorbar\": {\"outlinewidth\": 0, \"ticks\": \"\"}}, \"type\": \"scattermapbox\"}], \"scatterpolar\": [{\"marker\": {\"colorbar\": {\"outlinewidth\": 0, \"ticks\": \"\"}}, \"type\": \"scatterpolar\"}], \"scatterpolargl\": [{\"marker\": {\"colorbar\": {\"outlinewidth\": 0, \"ticks\": \"\"}}, \"type\": \"scatterpolargl\"}], \"scatterternary\": [{\"marker\": {\"colorbar\": {\"outlinewidth\": 0, \"ticks\": \"\"}}, \"type\": \"scatterternary\"}], \"surface\": [{\"colorbar\": {\"outlinewidth\": 0, \"ticks\": \"\"}, \"colorscale\": [[0.0, \"#0d0887\"], [0.1111111111111111, \"#46039f\"], [0.2222222222222222, \"#7201a8\"], [0.3333333333333333, \"#9c179e\"], [0.4444444444444444, \"#bd3786\"], [0.5555555555555556, \"#d8576b\"], [0.6666666666666666, \"#ed7953\"], [0.7777777777777778, \"#fb9f3a\"], [0.8888888888888888, \"#fdca26\"], [1.0, \"#f0f921\"]], \"type\": \"surface\"}], \"table\": [{\"cells\": {\"fill\": {\"color\": \"#EBF0F8\"}, \"line\": {\"color\": \"white\"}}, \"header\": {\"fill\": {\"color\": \"#C8D4E3\"}, \"line\": {\"color\": \"white\"}}, \"type\": \"table\"}]}, \"layout\": {\"annotationdefaults\": {\"arrowcolor\": \"#2a3f5f\", \"arrowhead\": 0, \"arrowwidth\": 1}, \"coloraxis\": {\"colorbar\": {\"outlinewidth\": 0, \"ticks\": \"\"}}, \"colorscale\": {\"diverging\": [[0, \"#8e0152\"], [0.1, \"#c51b7d\"], [0.2, \"#de77ae\"], [0.3, \"#f1b6da\"], [0.4, \"#fde0ef\"], [0.5, \"#f7f7f7\"], [0.6, \"#e6f5d0\"], [0.7, \"#b8e186\"], [0.8, \"#7fbc41\"], [0.9, \"#4d9221\"], [1, \"#276419\"]], \"sequential\": [[0.0, \"#0d0887\"], [0.1111111111111111, \"#46039f\"], [0.2222222222222222, \"#7201a8\"], [0.3333333333333333, \"#9c179e\"], [0.4444444444444444, \"#bd3786\"], [0.5555555555555556, \"#d8576b\"], [0.6666666666666666, \"#ed7953\"], [0.7777777777777778, \"#fb9f3a\"], [0.8888888888888888, \"#fdca26\"], [1.0, \"#f0f921\"]], \"sequentialminus\": [[0.0, \"#0d0887\"], [0.1111111111111111, \"#46039f\"], [0.2222222222222222, \"#7201a8\"], [0.3333333333333333, \"#9c179e\"], [0.4444444444444444, \"#bd3786\"], [0.5555555555555556, \"#d8576b\"], [0.6666666666666666, \"#ed7953\"], [0.7777777777777778, \"#fb9f3a\"], [0.8888888888888888, \"#fdca26\"], [1.0, \"#f0f921\"]]}, \"colorway\": [\"#636efa\", \"#EF553B\", \"#00cc96\", \"#ab63fa\", \"#FFA15A\", \"#19d3f3\", \"#FF6692\", \"#B6E880\", \"#FF97FF\", \"#FECB52\"], \"font\": {\"color\": \"#2a3f5f\"}, \"geo\": {\"bgcolor\": \"white\", \"lakecolor\": \"white\", \"landcolor\": \"#E5ECF6\", \"showlakes\": true, \"showland\": true, \"subunitcolor\": \"white\"}, \"hoverlabel\": {\"align\": \"left\"}, \"hovermode\": \"closest\", \"mapbox\": {\"style\": \"light\"}, \"paper_bgcolor\": \"white\", \"plot_bgcolor\": \"#E5ECF6\", \"polar\": {\"angularaxis\": {\"gridcolor\": \"white\", \"linecolor\": \"white\", \"ticks\": \"\"}, \"bgcolor\": \"#E5ECF6\", \"radialaxis\": {\"gridcolor\": \"white\", \"linecolor\": \"white\", \"ticks\": \"\"}}, \"scene\": {\"xaxis\": {\"backgroundcolor\": \"#E5ECF6\", \"gridcolor\": \"white\", \"gridwidth\": 2, \"linecolor\": \"white\", \"showbackground\": true, \"ticks\": \"\", \"zerolinecolor\": \"white\"}, \"yaxis\": {\"backgroundcolor\": \"#E5ECF6\", \"gridcolor\": \"white\", \"gridwidth\": 2, \"linecolor\": \"white\", \"showbackground\": true, \"ticks\": \"\", \"zerolinecolor\": \"white\"}, \"zaxis\": {\"backgroundcolor\": \"#E5ECF6\", \"gridcolor\": \"white\", \"gridwidth\": 2, \"linecolor\": \"white\", \"showbackground\": true, \"ticks\": \"\", \"zerolinecolor\": \"white\"}}, \"shapedefaults\": {\"line\": {\"color\": \"#2a3f5f\"}}, \"ternary\": {\"aaxis\": {\"gridcolor\": \"white\", \"linecolor\": \"white\", \"ticks\": \"\"}, \"baxis\": {\"gridcolor\": \"white\", \"linecolor\": \"white\", \"ticks\": \"\"}, \"bgcolor\": \"#E5ECF6\", \"caxis\": {\"gridcolor\": \"white\", \"linecolor\": \"white\", \"ticks\": \"\"}}, \"title\": {\"x\": 0.05}, \"xaxis\": {\"automargin\": true, \"gridcolor\": \"white\", \"linecolor\": \"white\", \"ticks\": \"\", \"title\": {\"standoff\": 15}, \"zerolinecolor\": \"white\", \"zerolinewidth\": 2}, \"yaxis\": {\"automargin\": true, \"gridcolor\": \"white\", \"linecolor\": \"white\", \"ticks\": \"\", \"title\": {\"standoff\": 15}, \"zerolinecolor\": \"white\", \"zerolinewidth\": 2}}}, \"title\": {\"text\": \"Distribution of Death Events in Patients\"}, \"width\": 600},\n",
       "                        {\"responsive\": true}\n",
       "                    ).then(function(){\n",
       "                            \n",
       "var gd = document.getElementById('5039db1a-eb47-4a51-ab35-564be703021e');\n",
       "var x = new MutationObserver(function (mutations, observer) {{\n",
       "        var display = window.getComputedStyle(gd).display;\n",
       "        if (!display || display === 'none') {{\n",
       "            console.log([gd, 'removed!']);\n",
       "            Plotly.purge(gd);\n",
       "            observer.disconnect();\n",
       "        }}\n",
       "}});\n",
       "\n",
       "// Listen for the removal of the full notebook cells\n",
       "var notebookContainer = gd.closest('#notebook-container');\n",
       "if (notebookContainer) {{\n",
       "    x.observe(notebookContainer, {childList: true});\n",
       "}}\n",
       "\n",
       "// Listen for the clearing of the current output cell\n",
       "var outputEl = gd.closest('.output');\n",
       "if (outputEl) {{\n",
       "    x.observe(outputEl, {childList: true});\n",
       "}}\n",
       "\n",
       "                        })\n",
       "                };\n",
       "                });\n",
       "            </script>\n",
       "        </div>"
      ]
     },
     "metadata": {},
     "output_type": "display_data"
    }
   ],
   "source": [
    "import plotly.express as px\n",
    "fig = px.pie(df, names='DEATH_EVENT', title='Distribution of Death Events in Patients',width=600, height=400)\n",
    "fig.show()"
   ]
  },
  {
   "cell_type": "markdown",
   "metadata": {
    "papermill": {
     "duration": 0.023482,
     "end_time": "2021-04-02T22:30:44.981443",
     "exception": false,
     "start_time": "2021-04-02T22:30:44.957961",
     "status": "completed"
    },
    "tags": []
   },
   "source": [
    "### Correlation Heatmap"
   ]
  },
  {
   "cell_type": "code",
   "execution_count": 5,
   "metadata": {
    "_kg_hide-input": true,
    "execution": {
     "iopub.execute_input": "2021-04-02T22:30:45.037845Z",
     "iopub.status.busy": "2021-04-02T22:30:45.037082Z",
     "iopub.status.idle": "2021-04-02T22:30:46.051585Z",
     "shell.execute_reply": "2021-04-02T22:30:46.052041Z"
    },
    "papermill": {
     "duration": 1.046938,
     "end_time": "2021-04-02T22:30:46.052183",
     "exception": false,
     "start_time": "2021-04-02T22:30:45.005245",
     "status": "completed"
    },
    "tags": []
   },
   "outputs": [
    {
     "data": {
      "image/png": "[encoded data removed]",
      "text/plain": [
       "<Figure size 1080x1080 with 2 Axes>"
      ]
     },
     "metadata": {
      "needs_background": "light"
     },
     "output_type": "display_data"
    }
   ],
   "source": [
    "corr = df.corr()\n",
    "ax, fig = plt.subplots(figsize=(15,15))\n",
    "sns.heatmap(corr, vmin=-1, cmap='coolwarm', annot=True)\n",
    "plt.show()"
   ]
  },
  {
   "cell_type": "code",
   "execution_count": 6,
   "metadata": {
    "execution": {
     "iopub.execute_input": "2021-04-02T22:30:46.111197Z",
     "iopub.status.busy": "2021-04-02T22:30:46.110465Z",
     "iopub.status.idle": "2021-04-02T22:30:46.137113Z",
     "shell.execute_reply": "2021-04-02T22:30:46.136547Z"
    },
    "papermill": {
     "duration": 0.05698,
     "end_time": "2021-04-02T22:30:46.137218",
     "exception": false,
     "start_time": "2021-04-02T22:30:46.080238",
     "status": "completed"
    },
    "tags": []
   },
   "outputs": [
    {
     "data": {
      "text/plain": [
       "age                  0.25\n",
       "ejection_fraction   -0.27\n",
       "serum_creatinine     0.29\n",
       "serum_sodium        -0.20\n",
       "time                -0.53\n",
       "DEATH_EVENT          1.00\n",
       "Name: DEATH_EVENT, dtype: float64"
      ]
     },
     "execution_count": 6,
     "metadata": {},
     "output_type": "execute_result"
    }
   ],
   "source": [
    "corr[abs(corr['DEATH_EVENT']) > 0.1]['DEATH_EVENT']"
   ]
  },
  {
   "cell_type": "markdown",
   "metadata": {
    "papermill": {
     "duration": 0.027393,
     "end_time": "2021-04-02T22:30:46.192542",
     "exception": false,
     "start_time": "2021-04-02T22:30:46.165149",
     "status": "completed"
    },
    "tags": []
   },
   "source": [
    "The features 'age', 'ejection_fraction', 'serum_creatinine', 'serum_sodium', and 'time' have a considerable correlation with 'DEATH_EVENT'"
   ]
  },
  {
   "cell_type": "markdown",
   "metadata": {
    "papermill": {
     "duration": 0.027422,
     "end_time": "2021-04-02T22:30:46.247812",
     "exception": false,
     "start_time": "2021-04-02T22:30:46.220390",
     "status": "completed"
    },
    "tags": []
   },
   "source": [
    "## Model Training and Prediction"
   ]
  },
  {
   "cell_type": "code",
   "execution_count": 7,
   "metadata": {
    "execution": {
     "iopub.execute_input": "2021-04-02T22:30:46.311741Z",
     "iopub.status.busy": "2021-04-02T22:30:46.311062Z",
     "iopub.status.idle": "2021-04-02T22:30:46.453689Z",
     "shell.execute_reply": "2021-04-02T22:30:46.454277Z"
    },
    "papermill": {
     "duration": 0.178691,
     "end_time": "2021-04-02T22:30:46.454441",
     "exception": false,
     "start_time": "2021-04-02T22:30:46.275750",
     "status": "completed"
    },
    "tags": []
   },
   "outputs": [],
   "source": [
    "# Trial and Error revealed that not considering Age column improves accuracy\n",
    "\n",
    "x = df[['ejection_fraction', 'serum_creatinine', 'serum_sodium', 'time']]\n",
    "y = df['DEATH_EVENT']\n",
    "\n",
    "#Spliting data into training and testing data\n",
    "from sklearn.model_selection import train_test_split\n",
    "x_train,x_test,y_train,y_test=train_test_split(x,y,random_state=1,test_size=0.2)"
   ]
  },
  {
   "cell_type": "markdown",
   "metadata": {
    "papermill": {
     "duration": 0.028205,
     "end_time": "2021-04-02T22:30:46.512035",
     "exception": false,
     "start_time": "2021-04-02T22:30:46.483830",
     "status": "completed"
    },
    "tags": []
   },
   "source": [
    "### Linear Regression"
   ]
  },
  {
   "cell_type": "code",
   "execution_count": 8,
   "metadata": {
    "execution": {
     "iopub.execute_input": "2021-04-02T22:30:46.572041Z",
     "iopub.status.busy": "2021-04-02T22:30:46.571326Z",
     "iopub.status.idle": "2021-04-02T22:30:46.851762Z",
     "shell.execute_reply": "2021-04-02T22:30:46.852589Z"
    },
    "papermill": {
     "duration": 0.312135,
     "end_time": "2021-04-02T22:30:46.852771",
     "exception": false,
     "start_time": "2021-04-02T22:30:46.540636",
     "status": "completed"
    },
    "tags": []
   },
   "outputs": [
    {
     "name": "stdout",
     "output_type": "stream",
     "text": [
      "Linear Regression Success Rate : 88.33%\n"
     ]
    },
    {
     "data": {
      "image/png": "[encoded data removed]",
      "text/plain": [
       "<Figure size 432x288 with 2 Axes>"
      ]
     },
     "metadata": {
      "needs_background": "light"
     },
     "output_type": "display_data"
    }
   ],
   "source": [
    "from sklearn.linear_model import LogisticRegression\n",
    "from sklearn.metrics import accuracy_score, plot_confusion_matrix\n",
    "lr=LogisticRegression(max_iter=10000)\n",
    "lr.fit(x_train,y_train)\n",
    "p1=lr.predict(x_test)\n",
    "s1=accuracy_score(y_test,p1)\n",
    "print(\"Linear Regression Success Rate :\", \"{:.2f}%\".format(100*s1))\n",
    "plot_confusion_matrix(lr, x_test, y_test)\n",
    "plt.show()"
   ]
  },
  {
   "cell_type": "markdown",
   "metadata": {
    "papermill": {
     "duration": 0.029478,
     "end_time": "2021-04-02T22:30:46.912519",
     "exception": false,
     "start_time": "2021-04-02T22:30:46.883041",
     "status": "completed"
    },
    "tags": []
   },
   "source": [
    "### Gradient Booster Classifier"
   ]
  },
  {
   "cell_type": "code",
   "execution_count": 9,
   "metadata": {
    "execution": {
     "iopub.execute_input": "2021-04-02T22:30:46.979055Z",
     "iopub.status.busy": "2021-04-02T22:30:46.978400Z",
     "iopub.status.idle": "2021-04-02T22:30:47.348117Z",
     "shell.execute_reply": "2021-04-02T22:30:47.347209Z"
    },
    "papermill": {
     "duration": 0.405652,
     "end_time": "2021-04-02T22:30:47.348268",
     "exception": false,
     "start_time": "2021-04-02T22:30:46.942616",
     "status": "completed"
    },
    "tags": []
   },
   "outputs": [
    {
     "name": "stdout",
     "output_type": "stream",
     "text": [
      "Gradient Booster Classifier Success Rate : 85.00%\n"
     ]
    },
    {
     "data": {
      "image/png": "[encoded data removed]",
      "text/plain": [
       "<Figure size 432x288 with 2 Axes>"
      ]
     },
     "metadata": {
      "needs_background": "light"
     },
     "output_type": "display_data"
    }
   ],
   "source": [
    "from sklearn.ensemble import GradientBoostingClassifier\n",
    "gbc=GradientBoostingClassifier()\n",
    "gbc.fit(x_train,y_train)\n",
    "p2=gbc.predict(x_test)\n",
    "s2=accuracy_score(y_test,p2)\n",
    "print(\"Gradient Booster Classifier Success Rate :\", \"{:.2f}%\".format(100*s2))\n",
    "plot_confusion_matrix(gbc, x_test, y_test)\n",
    "plt.show()"
   ]
  },
  {
   "cell_type": "markdown",
   "metadata": {
    "papermill": {
     "duration": 0.03109,
     "end_time": "2021-04-02T22:30:47.410706",
     "exception": false,
     "start_time": "2021-04-02T22:30:47.379616",
     "status": "completed"
    },
    "tags": []
   },
   "source": [
    "### Random Forest Classifier"
   ]
  },
  {
   "cell_type": "code",
   "execution_count": 10,
   "metadata": {
    "execution": {
     "iopub.execute_input": "2021-04-02T22:30:47.483599Z",
     "iopub.status.busy": "2021-04-02T22:30:47.482567Z",
     "iopub.status.idle": "2021-04-02T22:30:47.868458Z",
     "shell.execute_reply": "2021-04-02T22:30:47.867793Z"
    },
    "papermill": {
     "duration": 0.425612,
     "end_time": "2021-04-02T22:30:47.868583",
     "exception": false,
     "start_time": "2021-04-02T22:30:47.442971",
     "status": "completed"
    },
    "tags": []
   },
   "outputs": [
    {
     "name": "stdout",
     "output_type": "stream",
     "text": [
      "Random Forest Classifier Success Rate : 83.33%\n"
     ]
    },
    {
     "data": {
      "image/png": "[encoded data removed]",
      "text/plain": [
       "<Figure size 432x288 with 2 Axes>"
      ]
     },
     "metadata": {
      "needs_background": "light"
     },
     "output_type": "display_data"
    }
   ],
   "source": [
    "from sklearn.ensemble import RandomForestClassifier\n",
    "rfc=RandomForestClassifier()\n",
    "rfc.fit(x_train,y_train)\n",
    "p3=rfc.predict(x_test)\n",
    "s3=accuracy_score(y_test,p3)\n",
    "print(\"Random Forest Classifier Success Rate :\", \"{:.2f}%\".format(100*s3))\n",
    "plot_confusion_matrix(rfc, x_test, y_test)\n",
    "plt.show()"
   ]
  },
  {
   "cell_type": "markdown",
   "metadata": {
    "papermill": {
     "duration": 0.032811,
     "end_time": "2021-04-02T22:30:47.933756",
     "exception": false,
     "start_time": "2021-04-02T22:30:47.900945",
     "status": "completed"
    },
    "tags": []
   },
   "source": [
    "(Random Forest rate varies on each execution from 88.33% to 91.67%)"
   ]
  },
  {
   "cell_type": "markdown",
   "metadata": {
    "papermill": {
     "duration": 0.03163,
     "end_time": "2021-04-02T22:30:47.997391",
     "exception": false,
     "start_time": "2021-04-02T22:30:47.965761",
     "status": "completed"
    },
    "tags": []
   },
   "source": [
    "### Support Vector Machine"
   ]
  },
  {
   "cell_type": "code",
   "execution_count": 11,
   "metadata": {
    "execution": {
     "iopub.execute_input": "2021-04-02T22:30:48.070304Z",
     "iopub.status.busy": "2021-04-02T22:30:48.069476Z",
     "iopub.status.idle": "2021-04-02T22:30:48.243545Z",
     "shell.execute_reply": "2021-04-02T22:30:48.244121Z"
    },
    "papermill": {
     "duration": 0.214944,
     "end_time": "2021-04-02T22:30:48.244280",
     "exception": false,
     "start_time": "2021-04-02T22:30:48.029336",
     "status": "completed"
    },
    "tags": []
   },
   "outputs": [
    {
     "name": "stdout",
     "output_type": "stream",
     "text": [
      "Support Vector Machine Success Rate : 90.00%\n"
     ]
    },
    {
     "data": {
      "image/png": "[encoded data removed]",
      "text/plain": [
       "<Figure size 432x288 with 2 Axes>"
      ]
     },
     "metadata": {
      "needs_background": "light"
     },
     "output_type": "display_data"
    }
   ],
   "source": [
    "from sklearn.svm import SVC\n",
    "svm=SVC()\n",
    "svm.fit(x_train,y_train)\n",
    "p4=svm.predict(x_test)\n",
    "s4=accuracy_score(y_test,p4)\n",
    "print(\"Support Vector Machine Success Rate :\", \"{:.2f}%\".format(100*s4))\n",
    "plot_confusion_matrix(svm, x_test, y_test)\n",
    "plt.show()"
   ]
  },
  {
   "cell_type": "markdown",
   "metadata": {
    "papermill": {
     "duration": 0.032472,
     "end_time": "2021-04-02T22:30:48.310084",
     "exception": false,
     "start_time": "2021-04-02T22:30:48.277612",
     "status": "completed"
    },
    "tags": []
   },
   "source": [
    "### K Nearest Neighbors"
   ]
  },
  {
   "cell_type": "code",
   "execution_count": 12,
   "metadata": {
    "execution": {
     "iopub.execute_input": "2021-04-02T22:30:48.386971Z",
     "iopub.status.busy": "2021-04-02T22:30:48.386292Z",
     "iopub.status.idle": "2021-04-02T22:30:48.696663Z",
     "shell.execute_reply": "2021-04-02T22:30:48.697129Z"
    },
    "papermill": {
     "duration": 0.354241,
     "end_time": "2021-04-02T22:30:48.697270",
     "exception": false,
     "start_time": "2021-04-02T22:30:48.343029",
     "status": "completed"
    },
    "tags": []
   },
   "outputs": [
    {
     "name": "stdout",
     "output_type": "stream",
     "text": [
      "K Nearest Neighbors Top 5 Success Rates:\n",
      "[93.33, 91.67, 90.0, 90.0, 90.0]\n"
     ]
    },
    {
     "data": {
      "image/png": "[encoded data removed]",
      "text/plain": [
       "<Figure size 432x288 with 2 Axes>"
      ]
     },
     "metadata": {
      "needs_background": "light"
     },
     "output_type": "display_data"
    }
   ],
   "source": [
    "from sklearn.neighbors import KNeighborsClassifier\n",
    "scorelist=[]\n",
    "for i in range(1,21):\n",
    "    knn=KNeighborsClassifier(n_neighbors=i)\n",
    "    knn.fit(x_train,y_train)\n",
    "    p5=knn.predict(x_test)\n",
    "    s5=accuracy_score(y_test,p5)\n",
    "    scorelist.append(round(100*s5, 2))\n",
    "print(\"K Nearest Neighbors Top 5 Success Rates:\")\n",
    "print(sorted(scorelist,reverse=True)[:5])\n",
    "plot_confusion_matrix(knn, x_test, y_test)\n",
    "plt.show()"
   ]
  },
  {
   "cell_type": "markdown",
   "metadata": {
    "papermill": {
     "duration": 0.034103,
     "end_time": "2021-04-02T22:30:48.765696",
     "exception": false,
     "start_time": "2021-04-02T22:30:48.731593",
     "status": "completed"
    },
    "tags": []
   },
   "source": [
    "### Decision Tree Classifier"
   ]
  },
  {
   "cell_type": "code",
   "execution_count": 13,
   "metadata": {
    "_kg_hide-input": false,
    "execution": {
     "iopub.execute_input": "2021-04-02T22:30:48.845208Z",
     "iopub.status.busy": "2021-04-02T22:30:48.844549Z",
     "iopub.status.idle": "2021-04-02T22:30:49.042519Z",
     "shell.execute_reply": "2021-04-02T22:30:49.041917Z"
    },
    "papermill": {
     "duration": 0.242959,
     "end_time": "2021-04-02T22:30:49.042632",
     "exception": false,
     "start_time": "2021-04-02T22:30:48.799673",
     "status": "completed"
    },
    "tags": []
   },
   "outputs": [
    {
     "name": "stdout",
     "output_type": "stream",
     "text": [
      "Decision Tree Classifier Top 5 Success Rates:\n",
      "[86.67, 86.67, 86.67, 86.67, 83.33]\n"
     ]
    },
    {
     "data": {
      "image/png": "[encoded data removed]",
      "text/plain": [
       "<Figure size 432x288 with 2 Axes>"
      ]
     },
     "metadata": {
      "needs_background": "light"
     },
     "output_type": "display_data"
    }
   ],
   "source": [
    "from sklearn.tree import DecisionTreeClassifier\n",
    "list1 = []\n",
    "for leaves in range(2,10):\n",
    "    classifier = DecisionTreeClassifier(max_leaf_nodes = leaves, random_state=0, criterion='entropy')\n",
    "    classifier.fit(x_train, y_train)\n",
    "    y_pred = classifier.predict(x_test)\n",
    "    list1.append(accuracy_score(y_test,y_pred)*100)\n",
    "print(\"Decision Tree Classifier Top 5 Success Rates:\")\n",
    "print([round(i, 2) for i in sorted(list1, reverse=True)[:5]])\n",
    "plot_confusion_matrix(classifier, x_test, y_test)\n",
    "plt.show()"
   ]
  },
  {
   "cell_type": "markdown",
   "metadata": {
    "papermill": {
     "duration": 0.036109,
     "end_time": "2021-04-02T22:30:49.114599",
     "exception": false,
     "start_time": "2021-04-02T22:30:49.078490",
     "status": "completed"
    },
    "tags": []
   },
   "source": [
    "### Extra Gradient Booster Classifier"
   ]
  },
  {
   "cell_type": "code",
   "execution_count": 14,
   "metadata": {
    "_kg_hide-input": false,
    "_kg_hide-output": true,
    "execution": {
     "iopub.execute_input": "2021-04-02T22:30:49.197912Z",
     "iopub.status.busy": "2021-04-02T22:30:49.197122Z",
     "iopub.status.idle": "2021-04-02T22:31:11.986019Z",
     "shell.execute_reply": "2021-04-02T22:31:11.953292Z"
    },
    "papermill": {
     "duration": 22.836145,
     "end_time": "2021-04-02T22:31:11.986165",
     "exception": false,
     "start_time": "2021-04-02T22:30:49.150020",
     "status": "completed"
    },
    "tags": []
   },
   "outputs": [
    {
     "name": "stdout",
     "output_type": "stream",
     "text": [
      "[0]\tvalidation_0-error:0.13333\n",
      "Will train until validation_0-error hasn't improved in 30 rounds.\n",
      "[1]\tvalidation_0-error:0.13333\n",
      "[2]\tvalidation_0-error:0.23333\n",
      "[3]\tvalidation_0-error:0.25000\n",
      "[4]\tvalidation_0-error:0.13333\n",
      "[5]\tvalidation_0-error:0.10000\n",
      "[6]\tvalidation_0-error:0.11667\n",
      "[7]\tvalidation_0-error:0.15000\n",
      "[8]\tvalidation_0-error:0.11667\n",
      "[9]\tvalidation_0-error:0.10000\n",
      "[10]\tvalidation_0-error:0.10000\n",
      "[11]\tvalidation_0-error:0.10000\n",
      "[12]\tvalidation_0-error:0.10000\n",
      "[13]\tvalidation_0-error:0.11667\n",
      "[14]\tvalidation_0-error:0.11667\n",
      "[15]\tvalidation_0-error:0.10000\n",
      "[16]\tvalidation_0-error:0.06667\n",
      "[17]\tvalidation_0-error:0.08333\n",
      "[18]\tvalidation_0-error:0.06667\n",
      "[19]\tvalidation_0-error:0.06667\n",
      "[20]\tvalidation_0-error:0.06667\n",
      "[21]\tvalidation_0-error:0.06667\n",
      "[22]\tvalidation_0-error:0.05000\n",
      "[23]\tvalidation_0-error:0.05000\n",
      "[24]\tvalidation_0-error:0.06667\n",
      "[25]\tvalidation_0-error:0.06667\n",
      "[26]\tvalidation_0-error:0.06667\n",
      "[27]\tvalidation_0-error:0.05000\n",
      "[28]\tvalidation_0-error:0.05000\n",
      "[29]\tvalidation_0-error:0.06667\n",
      "[30]\tvalidation_0-error:0.06667\n",
      "[31]\tvalidation_0-error:0.06667\n",
      "[32]\tvalidation_0-error:0.06667\n",
      "[33]\tvalidation_0-error:0.06667\n",
      "[34]\tvalidation_0-error:0.06667\n",
      "[35]\tvalidation_0-error:0.06667\n",
      "[36]\tvalidation_0-error:0.06667\n",
      "[37]\tvalidation_0-error:0.06667\n",
      "[38]\tvalidation_0-error:0.06667\n",
      "[39]\tvalidation_0-error:0.06667\n",
      "[40]\tvalidation_0-error:0.08333\n",
      "[41]\tvalidation_0-error:0.10000\n",
      "[42]\tvalidation_0-error:0.08333\n",
      "[43]\tvalidation_0-error:0.06667\n",
      "[44]\tvalidation_0-error:0.06667\n",
      "[45]\tvalidation_0-error:0.06667\n",
      "[46]\tvalidation_0-error:0.08333\n",
      "[47]\tvalidation_0-error:0.06667\n",
      "[48]\tvalidation_0-error:0.08333\n",
      "[49]\tvalidation_0-error:0.08333\n",
      "[50]\tvalidation_0-error:0.08333\n",
      "[51]\tvalidation_0-error:0.10000\n",
      "[52]\tvalidation_0-error:0.10000\n",
      "Stopping. Best iteration:\n",
      "[22]\tvalidation_0-error:0.05000\n",
      "\n"
     ]
    }
   ],
   "source": [
    "from xgboost import XGBClassifier\n",
    "from bayes_opt import BayesianOptimization\n",
    "from sklearn.metrics import roc_auc_score\n",
    "from sklearn.model_selection import StratifiedKFold, GridSearchCV\n",
    "\n",
    "params = {\n",
    "        'min_child_weight': [1, 5, 10],\n",
    "        'gamma': [0.5, 1, 1.5, 2, 5],\n",
    "        'subsample': [0.6, 0.8, 1.0],\n",
    "        'colsample_bytree': [0.6, 0.8, 1.0],\n",
    "        'max_depth': [3, 4, 5]\n",
    "        }\n",
    "\n",
    "xgb = XGBClassifier(learning_rate=0.01, n_estimators=1000, objective='binary:logistic')\n",
    "\n",
    "skf = StratifiedKFold(n_splits=5, shuffle = True, random_state = 0)\n",
    "\n",
    "grid = GridSearchCV(estimator=xgb, param_grid=params, n_jobs=4, \n",
    "                    cv=skf.split(x_train,y_train), verbose=0 )\n",
    "\n",
    "grid.fit(x_train,y_train,early_stopping_rounds=30,eval_set=[(x_test, y_test)])\n",
    "p2x = grid.best_estimator_.predict(x_test)\n",
    "s2x=accuracy_score(y_test,p2x)"
   ]
  },
  {
   "cell_type": "code",
   "execution_count": 15,
   "metadata": {
    "_kg_hide-input": true,
    "execution": {
     "iopub.execute_input": "2021-04-02T22:31:12.135293Z",
     "iopub.status.busy": "2021-04-02T22:31:12.134452Z",
     "iopub.status.idle": "2021-04-02T22:31:12.332690Z",
     "shell.execute_reply": "2021-04-02T22:31:12.333680Z"
    },
    "papermill": {
     "duration": 0.277649,
     "end_time": "2021-04-02T22:31:12.333876",
     "exception": false,
     "start_time": "2021-04-02T22:31:12.056227",
     "status": "completed"
    },
    "tags": []
   },
   "outputs": [
    {
     "name": "stdout",
     "output_type": "stream",
     "text": [
      "Extra Gradient Booster Classifier Success Rate : 95.00%\n"
     ]
    },
    {
     "data": {
      "image/png": "[encoded data removed]",
      "text/plain": [
       "<Figure size 432x288 with 2 Axes>"
      ]
     },
     "metadata": {
      "needs_background": "light"
     },
     "output_type": "display_data"
    }
   ],
   "source": [
    "print(\"Extra Gradient Booster Classifier Success Rate :\", \"{:.2f}%\".format(100*s2x))\n",
    "plot_confusion_matrix(grid.best_estimator_, x_test, y_test)\n",
    "plt.show()"
   ]
  },
  {
   "cell_type": "markdown",
   "metadata": {
    "papermill": {
     "duration": 0.054025,
     "end_time": "2021-04-02T22:31:12.442599",
     "exception": false,
     "start_time": "2021-04-02T22:31:12.388574",
     "status": "completed"
    },
    "tags": []
   },
   "source": [
    "## Final Results:"
   ]
  },
  {
   "cell_type": "code",
   "execution_count": 16,
   "metadata": {
    "_kg_hide-input": true,
    "execution": {
     "iopub.execute_input": "2021-04-02T22:31:12.556053Z",
     "iopub.status.busy": "2021-04-02T22:31:12.555074Z",
     "iopub.status.idle": "2021-04-02T22:31:12.561957Z",
     "shell.execute_reply": "2021-04-02T22:31:12.562521Z"
    },
    "papermill": {
     "duration": 0.065045,
     "end_time": "2021-04-02T22:31:12.562665",
     "exception": false,
     "start_time": "2021-04-02T22:31:12.497620",
     "status": "completed"
    },
    "tags": []
   },
   "outputs": [
    {
     "name": "stdout",
     "output_type": "stream",
     "text": [
      "Gradient Booster Classifier: 85.0%\n",
      "Decision Tree Classifier: 86.67%\n",
      "Linear Regression: 88.33%\n",
      "Support Vector Machine: 90.0%\n",
      "Random Forest Classifier: 83.33%\n",
      "K Nearest Neighbors: 93.33%\n",
      "Extra Gradient Booster Classifier: 95.0%\n"
     ]
    }
   ],
   "source": [
    "print(f'Gradient Booster Classifier: {round(100*s2, 2)}%\\nDecision Tree Classifier: {round(sorted(list1, reverse=True)[0], 2)}%\\nLinear Regression: {round(100*s1, 2)}%\\nSupport Vector Machine: {round(100*s4, 2)}%\\nRandom Forest Classifier: {round(100*s3, 2)}%\\nK Nearest Neighbors: {round(sorted(scorelist,reverse=True)[0], 2)}%\\nExtra Gradient Booster Classifier: {round(100*s2x, 2)}%')"
   ]
  },
  {
   "cell_type": "markdown",
   "metadata": {
    "papermill": {
     "duration": 0.054632,
     "end_time": "2021-04-02T22:31:12.673635",
     "exception": false,
     "start_time": "2021-04-02T22:31:12.619003",
     "status": "completed"
    },
    "tags": []
   },
   "source": [
    "<p style=\"font-size:15px; font-family:verdana;\">This notebook was recently updated to be more presentable with fancy markdowns.</p>\n",
    "<p style=\"font-size:15px; font-family:verdana;\">The notebook that inspired me to do this is available here: <a href=\"https://www.kaggle.com/shubhamksingh/create-beautiful-notebooks-formatting-tutorial\" target=\"_blank\">🏆Create Beautiful Notebooks : Formatting Tutorial</a><p style=\"font-size:15px; font-family:verdana;\">"
   ]
  },
  {
   "cell_type": "markdown",
   "metadata": {
    "papermill": {
     "duration": 0.054945,
     "end_time": "2021-04-02T22:31:12.783723",
     "exception": false,
     "start_time": "2021-04-02T22:31:12.728778",
     "status": "completed"
    },
    "tags": []
   },
   "source": [
    "<p style=\"font-size:15px; font-family:verdana;\"><b>Thanks for reading my notebook!😃</b></p>"
   ]
  }
 ],
 "metadata": {
  "kernelspec": {
   "display_name": "Python 3",
   "language": "python",
   "name": "python3"
  },
  "language_info": {
   "codemirror_mode": {
    "name": "ipython",
    "version": 3
   },
   "file_extension": ".py",
   "mimetype": "text/x-python",
   "name": "python",
   "nbconvert_exporter": "python",
   "pygments_lexer": "ipython3",
   "version": "3.7.3"
  },
  "papermill": {
   "duration": 36.321979,
   "end_time": "2021-04-02T22:31:12.957423",
   "environment_variables": {},
   "exception": null,
   "input_path": "__notebook__.ipynb",
   "output_path": "__notebook__.ipynb",
   "parameters": {},
   "start_time": "2021-04-02T22:30:36.635444",
   "version": "2.1.0"
  }
 },
 "nbformat": 4,
 "nbformat_minor": 4
}
